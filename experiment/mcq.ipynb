{
 "cells": [
  {
   "cell_type": "code",
   "execution_count": 2,
   "metadata": {},
   "outputs": [],
   "source": [
    "import os\n",
    "import json\n",
    "import pandas as pd\n",
    "import traceback"
   ]
  },
  {
   "cell_type": "code",
   "execution_count": 3,
   "metadata": {},
   "outputs": [],
   "source": [
    "from langchain.chat_models import ChatOpenAI"
   ]
  },
  {
   "cell_type": "code",
   "execution_count": 4,
   "metadata": {},
   "outputs": [
    {
     "data": {
      "text/plain": [
       "True"
      ]
     },
     "execution_count": 4,
     "metadata": {},
     "output_type": "execute_result"
    }
   ],
   "source": [
    "from dotenv import load_dotenv\n",
    "load_dotenv()\n"
   ]
  },
  {
   "cell_type": "code",
   "execution_count": 5,
   "metadata": {},
   "outputs": [],
   "source": [
    "apiKey = os.getenv(\"OPENAI_API_KEY\") "
   ]
  },
  {
   "cell_type": "code",
   "execution_count": null,
   "metadata": {},
   "outputs": [],
   "source": []
  },
  {
   "cell_type": "code",
   "execution_count": 7,
   "metadata": {},
   "outputs": [
    {
     "name": "stderr",
     "output_type": "stream",
     "text": [
      "/var/folders/tl/2rzqd82j4xncc4bmthg5hlbr0000gn/T/ipykernel_5461/749673684.py:1: LangChainDeprecationWarning: The class `ChatOpenAI` was deprecated in LangChain 0.0.10 and will be removed in 1.0. An updated version of the class exists in the :class:`~langchain-openai package and should be used instead. To use it run `pip install -U :class:`~langchain-openai` and import as `from :class:`~langchain_openai import ChatOpenAI``.\n",
      "  llm = ChatOpenAI(openai_api_key=apiKey,model_name=\"gpt-3.5-turbo\",temperature=0.5)\n"
     ]
    }
   ],
   "source": [
    "llm = ChatOpenAI(openai_api_key=apiKey,model_name=\"gpt-3.5-turbo\",temperature=0.5)"
   ]
  },
  {
   "cell_type": "code",
   "execution_count": 8,
   "metadata": {},
   "outputs": [],
   "source": [
    "from langchain.llms import OpenAI\n",
    "from langchain.prompts import PromptTemplate\n",
    "from langchain.chains import LLMChain\n",
    "from langchain.chains import SequentialChain\n",
    "from langchain.callbacks import get_openai_callback\n",
    "import PyPDF2"
   ]
  },
  {
   "cell_type": "code",
   "execution_count": 9,
   "metadata": {},
   "outputs": [],
   "source": [
    "RESPONSE_JSON = {\n",
    " \"1\" : {\n",
    "    \"mcq\": \"multiple choice question\",\n",
    "    \"options\": {\n",
    "        \"a\": \"choice here\",\n",
    "        \"b\": \"choice here\",\n",
    "        \"c\": \"choice here\",\n",
    "        \"d\": \"choice here\",\n",
    "},\n",
    "\"correct\": \"correct answer\",\n",
    "},\n",
    " \"2\" : {\n",
    "    \"mcq\": \"multiple choice question\",\n",
    "    \"options\": {\n",
    "        \"a\": \"choice here\",\n",
    "        \"b\": \"choice here\",\n",
    "        \"c\": \"choice here\",\n",
    "        \"d\": \"choice here\",\n",
    "},\n",
    "\"correct\": \"correct answer\",\n",
    "},\n",
    " \"3\" : {\n",
    "    \"mcq\": \"multiple choice question\",\n",
    "    \"options\": {\n",
    "        \"a\": \"choice here\",\n",
    "        \"b\": \"choice here\",\n",
    "        \"c\": \"choice here\",\n",
    "        \"d\": \"choice here\",\n",
    "},\n",
    "\"correct\": \"correct answer\",\n",
    "},\n",
    "}"
   ]
  },
  {
   "cell_type": "code",
   "execution_count": 10,
   "metadata": {},
   "outputs": [],
   "source": [
    "TEMPLATE=\"\"\"\n",
    "Text:{text}\n",
    "You are an expert MCQ maker. Given the above text, it is your job to \\\n",
    "create a quiz of {number} multiple choice questions for {subject} students in {tone} tone.\n",
    "Make sure the questions are not repeated and check all the questions to be conforming the text as well.\n",
    "Make sure to format your response like RESPONSE_JSON below and use it as a guide. \\\n",
    "Ensure to make {number} MCQS\n",
    "### RESPONSE_JSON\n",
    "{response_json}\n",
    "\"\"\""
   ]
  },
  {
   "cell_type": "code",
   "execution_count": 11,
   "metadata": {},
   "outputs": [],
   "source": [
    "quiz_prompt = PromptTemplate(\n",
    "    input_variables=[\"text\",\"number\",\"subject\",\"tone\",\"response_json\"],\n",
    "    template = TEMPLATE\n",
    ")"
   ]
  },
  {
   "cell_type": "code",
   "execution_count": 12,
   "metadata": {},
   "outputs": [
    {
     "name": "stderr",
     "output_type": "stream",
     "text": [
      "/var/folders/tl/2rzqd82j4xncc4bmthg5hlbr0000gn/T/ipykernel_5461/1380526992.py:1: LangChainDeprecationWarning: The class `LLMChain` was deprecated in LangChain 0.1.17 and will be removed in 1.0. Use :meth:`~RunnableSequence, e.g., `prompt | llm`` instead.\n",
      "  quiz_chain = LLMChain(llm=llm,prompt=quiz_prompt,output_key=\"quiz\",verbose=True)\n"
     ]
    }
   ],
   "source": [
    "quiz_chain = LLMChain(llm=llm,prompt=quiz_prompt,output_key=\"quiz\",verbose=True)"
   ]
  },
  {
   "cell_type": "code",
   "execution_count": 13,
   "metadata": {},
   "outputs": [],
   "source": [
    "TEMPLATE2 = \"\"\"\n",
    "You are an expert english grammarian and writer. Given a Multiple Choice Quiz for {subject} students.\\\n",
    "You need to evaluate the complexity of the question and give a complete analysis of the quiz. Only use at max 50 words for complexity analysis if the quiz is not at per with the cognitive and analytical abilities of the students, \\\n",
    "update the quiz questions which needs to be changed and change the tone such that it perfectly fits the student abilities\n",
    "Quiz_MCQs:\n",
    "{quiz}\n",
    "Check from an expert English Writer of the above quiz:\" \\\n",
    "\"\"\""
   ]
  },
  {
   "cell_type": "code",
   "execution_count": 14,
   "metadata": {},
   "outputs": [],
   "source": [
    "quiz_evaluation_prompt = PromptTemplate(\n",
    "    input_variables=[\"subject\",\"quiz\"],\n",
    "    template=TEMPLATE2\n",
    "    )"
   ]
  },
  {
   "cell_type": "code",
   "execution_count": 15,
   "metadata": {},
   "outputs": [],
   "source": [
    "review_chain = LLMChain(llm=llm,prompt=quiz_evaluation_prompt,output_key=\"review\",verbose=True)\n"
   ]
  },
  {
   "cell_type": "code",
   "execution_count": 16,
   "metadata": {},
   "outputs": [],
   "source": [
    "file_path = r\"/Users/mac/Desktop/MCQGEN/data.txt\""
   ]
  },
  {
   "cell_type": "code",
   "execution_count": 17,
   "metadata": {},
   "outputs": [],
   "source": [
    "generate_evaluate_chain = SequentialChain(chains=[quiz_chain,review_chain],input_variables=[\"text\",\"number\",\"subject\",\"tone\",\"response_json\"],output_variables=[\"quiz\",\"review\"],verbose=True)"
   ]
  },
  {
   "cell_type": "code",
   "execution_count": 18,
   "metadata": {},
   "outputs": [],
   "source": [
    "with open(file_path,'r') as file:\n",
    "    Text = file.read()"
   ]
  },
  {
   "cell_type": "code",
   "execution_count": 19,
   "metadata": {},
   "outputs": [],
   "source": [
    "Number = 5\n",
    "Subject = \"Jaya pataka Swami\"\n",
    "Tone = \"simple\""
   ]
  },
  {
   "cell_type": "code",
   "execution_count": 20,
   "metadata": {},
   "outputs": [
    {
     "name": "stderr",
     "output_type": "stream",
     "text": [
      "/var/folders/tl/2rzqd82j4xncc4bmthg5hlbr0000gn/T/ipykernel_5461/244778231.py:2: LangChainDeprecationWarning: The method `Chain.__call__` was deprecated in langchain 0.1.0 and will be removed in 1.0. Use :meth:`~invoke` instead.\n",
      "  response = generate_evaluate_chain(\n"
     ]
    },
    {
     "name": "stdout",
     "output_type": "stream",
     "text": [
      "\n",
      "\n",
      "\u001b[1m> Entering new SequentialChain chain...\u001b[0m\n",
      "\n",
      "\n",
      "\u001b[1m> Entering new LLMChain chain...\u001b[0m\n",
      "Prompt after formatting:\n",
      "\u001b[32;1m\u001b[1;3m\n",
      "Text:Jayapataka Swami was born in Milwaukee, Wisconsin as Gordon John Erdman II to Gordon John Erdman and Lorraine Erdman (Golich).[5] He attended St. John's Northwestern Military Academy and Brown University.[5] There, as a fresh enrollee, he was influenced by a guest lecture on the life of Buddha that he lost all interest in his studies and began searching for a spiritual teacher.[5] After some time of searching he concluded he would have to go to India to find his teacher.[citation needed]\n",
      "Before leaving for India, Gordon came across some Hare Krishna devotees, doing kirtan and distributing Back To Godhead magazine. Shortly after he visited the San Francisco ISKCON center, where he met Jayananda das who introduced him to the Ratha Yatra festival. His first service in ISKCON was to help build the Ratha Cart. From there he travelled to Montreal, Quebec, Canada where he met Srila Prabhupada. John took first initiation in Montreal, Quebec, Canada and was given the name 'Jayapataka dasa'.[5] Soon after he was awarded 2nd initiation in New York.[citation needed]\n",
      "While in Montreal, Jayapataka dasa was engaged in the service of printing books and dispatching them to other ISKCON temples around the world. Later, on the instruction of Srila Prabhupada, Jayapataka went to Toronto to open a temple there.[5] When Jayapataka dasa took over the Toronto center as president he wrote to Srila Prabhupada enquiring about his service and was told by him to go to India.[9]\n",
      "You are an expert MCQ maker. Given the above text, it is your job to create a quiz of 5 multiple choice questions for Jaya pataka Swami students in simple tone.\n",
      "Make sure the questions are not repeated and check all the questions to be conforming the text as well.\n",
      "Make sure to format your response like RESPONSE_JSON below and use it as a guide. Ensure to make 5 MCQS\n",
      "### RESPONSE_JSON\n",
      "{\"1\": {\"mcq\": \"multiple choice question\", \"options\": {\"a\": \"choice here\", \"b\": \"choice here\", \"c\": \"choice here\", \"d\": \"choice here\"}, \"correct\": \"correct answer\"}, \"2\": {\"mcq\": \"multiple choice question\", \"options\": {\"a\": \"choice here\", \"b\": \"choice here\", \"c\": \"choice here\", \"d\": \"choice here\"}, \"correct\": \"correct answer\"}, \"3\": {\"mcq\": \"multiple choice question\", \"options\": {\"a\": \"choice here\", \"b\": \"choice here\", \"c\": \"choice here\", \"d\": \"choice here\"}, \"correct\": \"correct answer\"}}\n",
      "\u001b[0m\n",
      "\n",
      "\u001b[1m> Finished chain.\u001b[0m\n",
      "\n",
      "\n",
      "\u001b[1m> Entering new LLMChain chain...\u001b[0m\n",
      "Prompt after formatting:\n",
      "\u001b[32;1m\u001b[1;3m\n",
      "You are an expert english grammarian and writer. Given a Multiple Choice Quiz for Jaya pataka Swami students.You need to evaluate the complexity of the question and give a complete analysis of the quiz. Only use at max 50 words for complexity analysis if the quiz is not at per with the cognitive and analytical abilities of the students, update the quiz questions which needs to be changed and change the tone such that it perfectly fits the student abilities\n",
      "Quiz_MCQs:\n",
      "{\n",
      "  \"1\": {\n",
      "    \"mcq\": \"Where was Jayapataka Swami born?\",\n",
      "    \"options\": {\n",
      "      \"a\": \"New York\",\n",
      "      \"b\": \"Milwaukee\",\n",
      "      \"c\": \"San Francisco\",\n",
      "      \"d\": \"Toronto\"\n",
      "    },\n",
      "    \"correct\": \"b\"\n",
      "  },\n",
      "  \"2\": {\n",
      "    \"mcq\": \"What was Jayapataka Swami's name before taking initiation in ISKCON?\",\n",
      "    \"options\": {\n",
      "      \"a\": \"Gordon John Erdman II\",\n",
      "      \"b\": \"Jayananda das\",\n",
      "      \"c\": \"Lorraine Erdman\",\n",
      "      \"d\": \"Golich\"\n",
      "    },\n",
      "    \"correct\": \"a\"\n",
      "  },\n",
      "  \"3\": {\n",
      "    \"mcq\": \"Where did Jayapataka Swami take his first initiation in ISKCON?\",\n",
      "    \"options\": {\n",
      "      \"a\": \"New York\",\n",
      "      \"b\": \"Montreal\",\n",
      "      \"c\": \"Toronto\",\n",
      "      \"d\": \"San Francisco\"\n",
      "    },\n",
      "    \"correct\": \"b\"\n",
      "  },\n",
      "  \"4\": {\n",
      "    \"mcq\": \"What was Jayapataka Swami's first service in ISKCON?\",\n",
      "    \"options\": {\n",
      "      \"a\": \"Book printing\",\n",
      "      \"b\": \"Ratha Cart building\",\n",
      "      \"c\": \"Temple opening\",\n",
      "      \"d\": \"Kirtan singing\"\n",
      "    },\n",
      "    \"correct\": \"b\"\n",
      "  },\n",
      "  \"5\": {\n",
      "    \"mcq\": \"Who instructed Jayapataka Swami to go to India?\",\n",
      "    \"options\": {\n",
      "      \"a\": \"Jayananda das\",\n",
      "      \"b\": \"Gordon John Erdman II\",\n",
      "      \"c\": \"Srila Prabhupada\",\n",
      "      \"d\": \"Lorraine Erdman\"\n",
      "    },\n",
      "    \"correct\": \"c\"\n",
      "  }\n",
      "}\n",
      "Check from an expert English Writer of the above quiz:\" \u001b[0m\n",
      "\n",
      "\u001b[1m> Finished chain.\u001b[0m\n",
      "\n",
      "\u001b[1m> Finished chain.\u001b[0m\n"
     ]
    }
   ],
   "source": [
    "with get_openai_callback() as cb:\n",
    "    response = generate_evaluate_chain(\n",
    "        {\n",
    "            \"text\":Text,\n",
    "            \"number\":Number,\n",
    "            \"subject\":Subject,\n",
    "            \"tone\":Tone,\n",
    "            \"response_json\":json.dumps(RESPONSE_JSON)\n",
    "        }\n",
    "    )"
   ]
  },
  {
   "cell_type": "code",
   "execution_count": 21,
   "metadata": {},
   "outputs": [
    {
     "name": "stdout",
     "output_type": "stream",
     "text": [
      "Total token: 1536\n",
      "prompt token: 1094\n",
      "Total cost: 0.002525\n"
     ]
    }
   ],
   "source": [
    "print(f\"Total token: {cb.total_tokens}\")\n",
    "print(f\"prompt token: {cb.prompt_tokens}\")\n",
    "print(f\"Total cost: {cb.total_cost}\")"
   ]
  },
  {
   "cell_type": "code",
   "execution_count": 22,
   "metadata": {},
   "outputs": [
    {
     "data": {
      "text/plain": [
       "{'text': \"Jayapataka Swami was born in Milwaukee, Wisconsin as Gordon John Erdman II to Gordon John Erdman and Lorraine Erdman (Golich).[5] He attended St. John's Northwestern Military Academy and Brown University.[5] There, as a fresh enrollee, he was influenced by a guest lecture on the life of Buddha that he lost all interest in his studies and began searching for a spiritual teacher.[5] After some time of searching he concluded he would have to go to India to find his teacher.[citation needed]\\nBefore leaving for India, Gordon came across some Hare Krishna devotees, doing kirtan and distributing Back To Godhead magazine. Shortly after he visited the San Francisco ISKCON center, where he met Jayananda das who introduced him to the Ratha Yatra festival. His first service in ISKCON was to help build the Ratha Cart. From there he travelled to Montreal, Quebec, Canada where he met Srila Prabhupada. John took first initiation in Montreal, Quebec, Canada and was given the name 'Jayapataka dasa'.[5] Soon after he was awarded 2nd initiation in New York.[citation needed]\\nWhile in Montreal, Jayapataka dasa was engaged in the service of printing books and dispatching them to other ISKCON temples around the world. Later, on the instruction of Srila Prabhupada, Jayapataka went to Toronto to open a temple there.[5] When Jayapataka dasa took over the Toronto center as president he wrote to Srila Prabhupada enquiring about his service and was told by him to go to India.[9]\",\n",
       " 'number': 5,\n",
       " 'subject': 'Jaya pataka Swami',\n",
       " 'tone': 'simple',\n",
       " 'response_json': '{\"1\": {\"mcq\": \"multiple choice question\", \"options\": {\"a\": \"choice here\", \"b\": \"choice here\", \"c\": \"choice here\", \"d\": \"choice here\"}, \"correct\": \"correct answer\"}, \"2\": {\"mcq\": \"multiple choice question\", \"options\": {\"a\": \"choice here\", \"b\": \"choice here\", \"c\": \"choice here\", \"d\": \"choice here\"}, \"correct\": \"correct answer\"}, \"3\": {\"mcq\": \"multiple choice question\", \"options\": {\"a\": \"choice here\", \"b\": \"choice here\", \"c\": \"choice here\", \"d\": \"choice here\"}, \"correct\": \"correct answer\"}}',\n",
       " 'quiz': '{\\n  \"1\": {\\n    \"mcq\": \"Where was Jayapataka Swami born?\",\\n    \"options\": {\\n      \"a\": \"New York\",\\n      \"b\": \"Milwaukee\",\\n      \"c\": \"San Francisco\",\\n      \"d\": \"Toronto\"\\n    },\\n    \"correct\": \"b\"\\n  },\\n  \"2\": {\\n    \"mcq\": \"What was Jayapataka Swami\\'s name before taking initiation in ISKCON?\",\\n    \"options\": {\\n      \"a\": \"Gordon John Erdman II\",\\n      \"b\": \"Jayananda das\",\\n      \"c\": \"Lorraine Erdman\",\\n      \"d\": \"Golich\"\\n    },\\n    \"correct\": \"a\"\\n  },\\n  \"3\": {\\n    \"mcq\": \"Where did Jayapataka Swami take his first initiation in ISKCON?\",\\n    \"options\": {\\n      \"a\": \"New York\",\\n      \"b\": \"Montreal\",\\n      \"c\": \"Toronto\",\\n      \"d\": \"San Francisco\"\\n    },\\n    \"correct\": \"b\"\\n  },\\n  \"4\": {\\n    \"mcq\": \"What was Jayapataka Swami\\'s first service in ISKCON?\",\\n    \"options\": {\\n      \"a\": \"Book printing\",\\n      \"b\": \"Ratha Cart building\",\\n      \"c\": \"Temple opening\",\\n      \"d\": \"Kirtan singing\"\\n    },\\n    \"correct\": \"b\"\\n  },\\n  \"5\": {\\n    \"mcq\": \"Who instructed Jayapataka Swami to go to India?\",\\n    \"options\": {\\n      \"a\": \"Jayananda das\",\\n      \"b\": \"Gordon John Erdman II\",\\n      \"c\": \"Srila Prabhupada\",\\n      \"d\": \"Lorraine Erdman\"\\n    },\\n    \"correct\": \"c\"\\n  }\\n}',\n",
       " 'review': 'The complexity of the quiz is appropriate for Jaya pataka Swami students as it tests their knowledge of his background and history in ISKCON. The questions are clear and straightforward, suitable for their cognitive and analytical abilities. No changes are needed.'}"
      ]
     },
     "execution_count": 22,
     "metadata": {},
     "output_type": "execute_result"
    }
   ],
   "source": [
    "response"
   ]
  },
  {
   "cell_type": "code",
   "execution_count": 23,
   "metadata": {},
   "outputs": [],
   "source": [
    "quiz = response.get(\"quiz\")"
   ]
  },
  {
   "cell_type": "code",
   "execution_count": 24,
   "metadata": {},
   "outputs": [
    {
     "data": {
      "text/plain": [
       "{'1': {'mcq': 'Where was Jayapataka Swami born?',\n",
       "  'options': {'a': 'New York',\n",
       "   'b': 'Milwaukee',\n",
       "   'c': 'San Francisco',\n",
       "   'd': 'Toronto'},\n",
       "  'correct': 'b'},\n",
       " '2': {'mcq': \"What was Jayapataka Swami's name before taking initiation in ISKCON?\",\n",
       "  'options': {'a': 'Gordon John Erdman II',\n",
       "   'b': 'Jayananda das',\n",
       "   'c': 'Lorraine Erdman',\n",
       "   'd': 'Golich'},\n",
       "  'correct': 'a'},\n",
       " '3': {'mcq': 'Where did Jayapataka Swami take his first initiation in ISKCON?',\n",
       "  'options': {'a': 'New York',\n",
       "   'b': 'Montreal',\n",
       "   'c': 'Toronto',\n",
       "   'd': 'San Francisco'},\n",
       "  'correct': 'b'},\n",
       " '4': {'mcq': \"What was Jayapataka Swami's first service in ISKCON?\",\n",
       "  'options': {'a': 'Book printing',\n",
       "   'b': 'Ratha Cart building',\n",
       "   'c': 'Temple opening',\n",
       "   'd': 'Kirtan singing'},\n",
       "  'correct': 'b'},\n",
       " '5': {'mcq': 'Who instructed Jayapataka Swami to go to India?',\n",
       "  'options': {'a': 'Jayananda das',\n",
       "   'b': 'Gordon John Erdman II',\n",
       "   'c': 'Srila Prabhupada',\n",
       "   'd': 'Lorraine Erdman'},\n",
       "  'correct': 'c'}}"
      ]
     },
     "execution_count": 24,
     "metadata": {},
     "output_type": "execute_result"
    }
   ],
   "source": [
    "json.loads(quiz)"
   ]
  },
  {
   "cell_type": "code",
   "execution_count": null,
   "metadata": {},
   "outputs": [],
   "source": []
  }
 ],
 "metadata": {
  "kernelspec": {
   "display_name": "Python 3",
   "language": "python",
   "name": "python3"
  },
  "language_info": {
   "codemirror_mode": {
    "name": "ipython",
    "version": 3
   },
   "file_extension": ".py",
   "mimetype": "text/x-python",
   "name": "python",
   "nbconvert_exporter": "python",
   "pygments_lexer": "ipython3",
   "version": "3.10.16"
  }
 },
 "nbformat": 4,
 "nbformat_minor": 2
}
